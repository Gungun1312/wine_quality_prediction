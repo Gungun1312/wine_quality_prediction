{
 "cells": [
  {
   "cell_type": "code",
   "execution_count": 1,
   "metadata": {},
   "outputs": [],
   "source": [
    "import pickle\n",
    "from flask import Flask\n",
    "from flask import request\n",
    "from flask import render_template\n",
    "import joblib"
   ]
  },
  {
   "cell_type": "code",
   "execution_count": 2,
   "metadata": {},
   "outputs": [],
   "source": [
    "app = Flask(__name__)\n",
    "\n",
    "# Load the prediction model\n",
    "model = joblib.load(\"model_predict\")\n",
    "\n",
    "@app.route('/')\n",
    "def hello(name=None):\n",
    "    return render_template('index.html', name=name)\n",
    "\n",
    "@app.route('/result', methods=['GET', 'POST'])\n",
    "def get_value():\n",
    "    if request.method == \"POST\":\n",
    "        try:\n",
    "            # Get form values and convert them to float\n",
    "            fixed_acidity = float(request.form.get('fixed_acidity'))\n",
    "            volatile_acidity = float(request.form.get('volatile_acidity'))\n",
    "            citric_acid = float(request.form.get('citric_acid'))\n",
    "            residual_sugar = float(request.form.get('residual_sugar'))\n",
    "            density = float(request.form.get('density'))\n",
    "            pH = float(request.form.get('pH'))\n",
    "            alcohol = float(request.form.get('alcohol'))\n",
    "\n",
    "            # Make prediction\n",
    "            predict_value = model.predict([[fixed_acidity, volatile_acidity, citric_acid, residual_sugar, density, pH, alcohol]])\n",
    "\n",
    "            # Render the results page with the prediction\n",
    "            return render_template('results.html', prediction=predict_value[0])\n",
    "        except Exception as e:\n",
    "            # Handle exceptions like missing input or conversion error\n",
    "            return render_template('error.html', error=str(e))\n",
    "\n",
    "    # Default return for GET requests (not likely to be used in this route)\n",
    "    return render_template('index.html')\n",
    "\n",
    "\n"
   ]
  },
  {
   "cell_type": "code",
   "execution_count": 3,
   "metadata": {},
   "outputs": [
    {
     "name": "stdout",
     "output_type": "stream",
     "text": [
      " * Serving Flask app '__main__'\n",
      " * Debug mode: off\n"
     ]
    },
    {
     "name": "stderr",
     "output_type": "stream",
     "text": [
      "WARNING: This is a development server. Do not use it in a production deployment. Use a production WSGI server instead.\n",
      " * Running on http://127.0.0.1:5000\n",
      "Press CTRL+C to quit\n",
      "127.0.0.1 - - [17/Sep/2024 13:31:57] \"GET / HTTP/1.1\" 200 -\n",
      "127.0.0.1 - - [17/Sep/2024 13:31:57] \"GET /favicon.ico HTTP/1.1\" 404 -\n",
      "c:\\Users\\91709\\anaconda3\\Lib\\site-packages\\sklearn\\base.py:464: UserWarning: X does not have valid feature names, but LinearRegression was fitted with feature names\n",
      "  warnings.warn(\n",
      "127.0.0.1 - - [17/Sep/2024 13:33:09] \"POST /result HTTP/1.1\" 200 -\n",
      "127.0.0.1 - - [17/Sep/2024 13:33:20] \"GET / HTTP/1.1\" 200 -\n"
     ]
    }
   ],
   "source": [
    "if __name__ == \"__main__\":\n",
    "    app.run()"
   ]
  }
 ],
 "metadata": {
  "kernelspec": {
   "display_name": "base",
   "language": "python",
   "name": "python3"
  },
  "language_info": {
   "codemirror_mode": {
    "name": "ipython",
    "version": 3
   },
   "file_extension": ".py",
   "mimetype": "text/x-python",
   "name": "python",
   "nbconvert_exporter": "python",
   "pygments_lexer": "ipython3",
   "version": "3.11.4"
  }
 },
 "nbformat": 4,
 "nbformat_minor": 2
}
